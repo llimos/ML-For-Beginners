{
 "cells": [
  {
   "cell_type": "markdown",
   "metadata": {},
   "source": [
    "# Exercise 2.1 - Assignment"
   ]
  },
  {
   "cell_type": "markdown",
   "metadata": {},
   "source": [
    "OK, so we're using the Linnerud dataset to learn something about fitness of middle-aged men. Might even be useful :)\n",
    "\n",
    "Looking for the relationship between waistline and number of situps. So number of situps is the 'feature' and waistline is the 'target' (not in the usual sense of a target waistline 😁)"
   ]
  },
  {
   "cell_type": "markdown",
   "metadata": {},
   "source": [
    "## Order of tasks\n",
    "\n",
    "Let's see if I can write out what we're going to do from memory (no way I'm going to remember the actual code)\n",
    "\n",
    "1. Load the dataset from the SciKit library, with X and y separated. According to the assignment text, there might be more than one y here, so it could get tricky.\n",
    "1. Split the dataset into train and test data, 2/3-1/3. Using the sampling tools module of scikit (can't remember the name)\n",
    "1. Initialise a new LinearRegression model (name might be wrong?)\n",
    "1. Train the model (`model.fit()`) using the training data\n",
    "1. Predict y for the test X (`model.predict`, I think?)\n",
    "1. Plot it using matplotlib (is that the right name?). Plot a line for the predicted y and dots for the actual y"
   ]
  },
  {
   "cell_type": "markdown",
   "metadata": {},
   "source": [
    "## Ok, let's go"
   ]
  },
  {
   "cell_type": "code",
   "execution_count": 25,
   "metadata": {},
   "outputs": [],
   "source": [
    "import numpy as np\n",
    "from sklearn import datasets, linear_model, model_selection\n",
    "import matplotlib.pyplot as plt"
   ]
  },
  {
   "cell_type": "markdown",
   "metadata": {},
   "source": [
    "(had to look these up)"
   ]
  },
  {
   "cell_type": "markdown",
   "metadata": {},
   "source": [
    "### Import the dataset"
   ]
  },
  {
   "cell_type": "code",
   "execution_count": 26,
   "metadata": {},
   "outputs": [
    {
     "ename": "TypeError",
     "evalue": "'tuple' object is not callable",
     "output_type": "error",
     "traceback": [
      "\u001b[1;31m---------------------------------------------------------------------------\u001b[0m",
      "\u001b[1;31mTypeError\u001b[0m                                 Traceback (most recent call last)",
      "\u001b[1;32m~\\AppData\\Local\\Temp/ipykernel_22452/1864794356.py\u001b[0m in \u001b[0;36m<module>\u001b[1;34m\u001b[0m\n\u001b[0;32m      1\u001b[0m \u001b[0mX\u001b[0m\u001b[1;33m,\u001b[0m \u001b[0my\u001b[0m \u001b[1;33m=\u001b[0m \u001b[0mdatasets\u001b[0m\u001b[1;33m.\u001b[0m\u001b[0mload_linnerud\u001b[0m\u001b[1;33m(\u001b[0m\u001b[0mreturn_X_y\u001b[0m \u001b[1;33m=\u001b[0m \u001b[1;32mTrue\u001b[0m\u001b[1;33m)\u001b[0m\u001b[1;33m\u001b[0m\u001b[1;33m\u001b[0m\u001b[0m\n\u001b[1;32m----> 2\u001b[1;33m \u001b[0mX\u001b[0m\u001b[1;33m.\u001b[0m\u001b[0mshape\u001b[0m\u001b[1;33m(\u001b[0m\u001b[1;33m)\u001b[0m\u001b[1;33m\u001b[0m\u001b[1;33m\u001b[0m\u001b[0m\n\u001b[0m\u001b[0;32m      3\u001b[0m \u001b[0my\u001b[0m\u001b[1;33m.\u001b[0m\u001b[0mshape\u001b[0m\u001b[1;33m(\u001b[0m\u001b[1;33m)\u001b[0m\u001b[1;33m\u001b[0m\u001b[1;33m\u001b[0m\u001b[0m\n",
      "\u001b[1;31mTypeError\u001b[0m: 'tuple' object is not callable"
     ]
    }
   ],
   "source": [
    "X, y = datasets.load_linnerud(return_X_y = True)\n",
    "X.shape()\n",
    "y.shape()"
   ]
  },
  {
   "cell_type": "markdown",
   "metadata": {},
   "source": [
    "hmm, got that wrong. need to look it up"
   ]
  },
  {
   "cell_type": "code",
   "execution_count": null,
   "metadata": {},
   "outputs": [
    {
     "name": "stdout",
     "output_type": "stream",
     "text": [
      "(20, 3)\n",
      "(20, 3)\n"
     ]
    }
   ],
   "source": [
    "print(X.shape)\n",
    "print(y.shape)"
   ]
  },
  {
   "cell_type": "markdown",
   "metadata": {},
   "source": [
    "I guess `shape` is a property, not a function.\n",
    "\n",
    "Don't know if the `print` is needed or not."
   ]
  },
  {
   "cell_type": "code",
   "execution_count": null,
   "metadata": {},
   "outputs": [
    {
     "data": {
      "text/plain": [
       "(20, 3)"
      ]
     },
     "execution_count": 28,
     "metadata": {},
     "output_type": "execute_result"
    }
   ],
   "source": [
    "X.shape\n",
    "y.shape"
   ]
  },
  {
   "cell_type": "markdown",
   "metadata": {},
   "source": [
    "ah, without `print` it only outputs the last line's output. Veiter."
   ]
  },
  {
   "cell_type": "markdown",
   "metadata": {},
   "source": [
    "OK, so both X and y have 3 dimensions, we'll need to reshape both.\n",
    "\n",
    "According to the [docs](https://scikit-learn.org/stable/datasets/toy_dataset.html#linnerrud-dataset),\n",
    "\n",
    "X = chins, situps, jumps\n",
    "\n",
    "y = weight, waist, pulse\n",
    "\n",
    "\n",
    "So we need to get the second one from each."
   ]
  },
  {
   "cell_type": "code",
   "execution_count": null,
   "metadata": {},
   "outputs": [],
   "source": [
    "X_situps = X[:, np.newaxis, 1]\n",
    "y_waist = y[:, np.newaxis, 1]"
   ]
  },
  {
   "cell_type": "markdown",
   "metadata": {},
   "source": [
    "Let's make sure we took the right values"
   ]
  },
  {
   "cell_type": "code",
   "execution_count": null,
   "metadata": {},
   "outputs": [
    {
     "name": "stdout",
     "output_type": "stream",
     "text": [
      "[  5. 162.  60.] [191.  36.  50.]\n",
      "[162.] [36.]\n"
     ]
    }
   ],
   "source": [
    "print(X[0], y[0])\n",
    "print(X_situps[0], y_waist[0])"
   ]
  },
  {
   "cell_type": "markdown",
   "metadata": {},
   "source": [
    "Great, we took the middle one from each."
   ]
  },
  {
   "cell_type": "markdown",
   "metadata": {},
   "source": [
    "### Split into training and test data"
   ]
  },
  {
   "cell_type": "code",
   "execution_count": null,
   "metadata": {},
   "outputs": [],
   "source": [
    "X_train, X_test, y_train, y_test = model_selection.train_test_split(X_situps, y_waist)"
   ]
  },
  {
   "cell_type": "markdown",
   "metadata": {},
   "source": [
    "This was from memory (with help from autocomplete), let's see if I got the order of the return values right... yup looks good"
   ]
  },
  {
   "cell_type": "markdown",
   "metadata": {},
   "source": [
    "### Initialise the model"
   ]
  },
  {
   "cell_type": "code",
   "execution_count": null,
   "metadata": {},
   "outputs": [],
   "source": [
    "model = linear_model.LinearRegression()"
   ]
  },
  {
   "cell_type": "markdown",
   "metadata": {},
   "source": [
    "### Train the model"
   ]
  },
  {
   "cell_type": "code",
   "execution_count": null,
   "metadata": {},
   "outputs": [
    {
     "data": {
      "text/plain": [
       "LinearRegression()"
      ]
     },
     "execution_count": 33,
     "metadata": {},
     "output_type": "execute_result"
    }
   ],
   "source": [
    "model.fit(X_train, y_train)"
   ]
  },
  {
   "cell_type": "markdown",
   "metadata": {},
   "source": [
    "### Predict test data"
   ]
  },
  {
   "cell_type": "code",
   "execution_count": null,
   "metadata": {},
   "outputs": [],
   "source": [
    "y_predict = model.predict(y_test)"
   ]
  },
  {
   "cell_type": "markdown",
   "metadata": {},
   "source": [
    "### Plot x_test against y_test and y_predict\n",
    "\n",
    "I need to look this one up 😳"
   ]
  },
  {
   "cell_type": "code",
   "execution_count": null,
   "metadata": {},
   "outputs": [
    {
     "data": {
      "image/png": "[encoded data removed]",
      "text/plain": [
       "<Figure size 432x288 with 1 Axes>"
      ]
     },
     "metadata": {
      "needs_background": "light"
     },
     "output_type": "display_data"
    }
   ],
   "source": [
    "plt.scatter(X_test, y_test, color='black')\n",
    "plt.plot(X_test, y_predict, color='green')\n",
    "plt.scatter(X_test, y_predict, color='blue')\n",
    "plt.show()"
   ]
  },
  {
   "cell_type": "markdown",
   "metadata": {},
   "source": [
    "Something weird here. Why are there only 5 data points? The original dataset had 20, I think.\n",
    "Also, the results look totally wrong. They're all way above what they should be"
   ]
  },
  {
   "cell_type": "code",
   "execution_count": null,
   "metadata": {},
   "outputs": [
    {
     "name": "stdout",
     "output_type": "stream",
     "text": [
      "orig (20, 1) (20, 1)\n",
      "trai (15, 1) (15, 1)\n",
      "test (5, 1) (5, 1)\n"
     ]
    }
   ],
   "source": [
    "print('orig', X_situps.shape, y_waist.shape) #lol\n",
    "print('trai', X_train.shape, y_train.shape)\n",
    "print('test', X_test.shape, y_test.shape)"
   ]
  },
  {
   "cell_type": "markdown",
   "metadata": {},
   "source": [
    "15 train, 5 test.\n",
    "\n",
    "Ah, maybe I needed to tell it how to split it better. Let's start over"
   ]
  },
  {
   "cell_type": "code",
   "execution_count": null,
   "metadata": {},
   "outputs": [
    {
     "data": {
      "image/png": "[encoded data removed]",
      "text/plain": [
       "<Figure size 432x288 with 1 Axes>"
      ]
     },
     "metadata": {
      "needs_background": "light"
     },
     "output_type": "display_data"
    }
   ],
   "source": [
    "# Split, this time specifying how much\n",
    "X_train, X_test, y_train, y_test = model_selection.train_test_split(X_situps, y_waist, test_size=0.33)\n",
    "\n",
    "# Init, train and predict\n",
    "model = linear_model.LinearRegression()\n",
    "model.fit(X_train, y_train)\n",
    "y_predict = model.predict(y_test)\n",
    "\n",
    "# Plot\n",
    "plt.scatter(X_test, y_test, color='black')\n",
    "plt.plot(X_test, y_predict, color='green')\n",
    "plt.scatter(X_test, y_predict, color='blue')\n",
    "plt.show()"
   ]
  },
  {
   "cell_type": "markdown",
   "metadata": {},
   "source": [
    "Ok, now we have 7. But the data is interesting. It's pretty much a straight line! I.e. it makes no difference how many situps you do, your waistline will always be 38 inches. Yay! 😄\n",
    "\n",
    "Also, it seems like the one outlier changed the average for everything?\n",
    "\n",
    "This looks very weird, I need to look at the raw data"
   ]
  },
  {
   "cell_type": "code",
   "execution_count": null,
   "metadata": {},
   "outputs": [
    {
     "name": "stdout",
     "output_type": "stream",
     "text": [
      "[[225.]\n",
      " [ 70.]\n",
      " [155.]\n",
      " [200.]\n",
      " [215.]\n",
      " [110.]\n",
      " [ 50.]]\n",
      "[[37.80851123]\n",
      " [37.74363001]\n",
      " [37.76525709]\n",
      " [37.85176538]\n",
      " [37.78688416]\n",
      " [37.80851123]\n",
      " [37.52735928]]\n"
     ]
    }
   ],
   "source": [
    "print(X_test)\n",
    "print(y_predict)"
   ]
  },
  {
   "cell_type": "markdown",
   "metadata": {},
   "source": [
    "(I got curious, is there a way to combine them in NumPy? Looks like hstack might do it)"
   ]
  },
  {
   "cell_type": "code",
   "execution_count": null,
   "metadata": {},
   "outputs": [
    {
     "data": {
      "text/plain": [
       "array([[225.        ,  37.80851123],\n",
       "       [ 70.        ,  37.74363001],\n",
       "       [155.        ,  37.76525709],\n",
       "       [200.        ,  37.85176538],\n",
       "       [215.        ,  37.78688416],\n",
       "       [110.        ,  37.80851123],\n",
       "       [ 50.        ,  37.52735928]])"
      ]
     },
     "execution_count": 40,
     "metadata": {},
     "output_type": "execute_result"
    }
   ],
   "source": [
    "np.hstack((X_test, y_predict))"
   ]
  },
  {
   "cell_type": "markdown",
   "metadata": {},
   "source": [
    "niiiice :)\n",
    "\n",
    "anyway. Looks like the model is always giving us something in the range 37.7-37.8. Why? I have no idea, the training data surely didn't look like that, did it?"
   ]
  },
  {
   "cell_type": "code",
   "execution_count": null,
   "metadata": {},
   "outputs": [
    {
     "data": {
      "text/plain": [
       "array([[101.,  38.],\n",
       "       [ 60.,  37.],\n",
       "       [210.,  37.],\n",
       "       [210.,  33.],\n",
       "       [230.,  32.],\n",
       "       [120.,  34.],\n",
       "       [162.,  36.],\n",
       "       [101.,  36.],\n",
       "       [110.,  37.],\n",
       "       [105.,  35.],\n",
       "       [125.,  34.],\n",
       "       [101.,  38.],\n",
       "       [251.,  33.]])"
      ]
     },
     "execution_count": 41,
     "metadata": {},
     "output_type": "execute_result"
    }
   ],
   "source": [
    "np.hstack((X_train, y_train))"
   ]
  },
  {
   "cell_type": "markdown",
   "metadata": {},
   "source": [
    "...so no, it didn't. So why does the model think the answer is always 37?\n",
    "\n",
    "Maybe, if there's no correlation, it just gives up and uses the average?\n",
    "\n",
    "Let's see if the _training_ data has what looks like a correlation to my eyeballs"
   ]
  },
  {
   "cell_type": "code",
   "execution_count": null,
   "metadata": {},
   "outputs": [
    {
     "data": {
      "text/plain": [
       "<matplotlib.collections.PathCollection at 0x1e048a95040>"
      ]
     },
     "execution_count": 42,
     "metadata": {},
     "output_type": "execute_result"
    },
    {
     "data": {
      "image/png": "[encoded data removed]",
      "text/plain": [
       "<Figure size 432x288 with 1 Axes>"
      ]
     },
     "metadata": {
      "needs_background": "light"
     },
     "output_type": "display_data"
    }
   ],
   "source": [
    "plt.scatter(X_train, y_train)"
   ]
  },
  {
   "cell_type": "markdown",
   "metadata": {},
   "source": [
    "Hard to say, it _looks_ like there is a trend - waistline inversely proportional to situps, which is what I'd expect (sadly). If I as a humble human was drawing a line it wouldn't be straight across.\n",
    "\n",
    "Fun idea, let's ask Excel!\n",
    "![Excel graph](Picture1.png)\n",
    "\n",
    "Excel agrees with me. Not sure why the model doesn't. Maybe we should try again from scratch?"
   ]
  },
  {
   "cell_type": "code",
   "execution_count": null,
   "metadata": {},
   "outputs": [
    {
     "name": "stdout",
     "output_type": "stream",
     "text": [
      "[[105.          40.90121617]\n",
      " [215.          40.94564911]\n",
      " [110.          40.99008206]\n",
      " [210.          40.99008206]\n",
      " [ 60.          40.81235027]\n",
      " [162.          40.85678322]\n",
      " [ 70.          40.85678322]]\n"
     ]
    }
   ],
   "source": [
    "X, y = datasets.load_linnerud(return_X_y=True)\n",
    "\n",
    "X_situps = X[:, np.newaxis, 1]\n",
    "y_waist = y[:, np.newaxis, 1]\n",
    "\n",
    "X_train, X_test, y_train, y_test = model_selection.train_test_split(X_situps, y_waist, test_size=0.33)\n",
    "\n",
    "model = linear_model.LinearRegression()\n",
    "model.fit(X_train, y_train)\n",
    "y_predict = model.predict(y_test)\n",
    "\n",
    "print(np.hstack((X_test, y_predict)))"
   ]
  },
  {
   "cell_type": "markdown",
   "metadata": {},
   "source": [
    "Bizarre. Same again, but a different number this time.\n",
    "\n",
    "I mean, a different number is not bizarre because it splits train and test randomly. But why does it always think everyone is the same?\n",
    "\n",
    "I really really hope it's not because of some stupid mistake I made..."
   ]
  },
  {
   "cell_type": "markdown",
   "metadata": {},
   "source": [
    "omg, it is. what an idiot."
   ]
  },
  {
   "cell_type": "code",
   "execution_count": 28,
   "metadata": {},
   "outputs": [],
   "source": [
    "X, y = datasets.load_linnerud(return_X_y=True)\n",
    "\n",
    "X_situps = X[:, np.newaxis, 1]\n",
    "y_waist = y[:, np.newaxis, 1]\n",
    "\n",
    "X_train, X_test, y_train, y_test = model_selection.train_test_split(X_situps, y_waist, test_size=0.33)\n",
    "\n",
    "model = linear_model.LinearRegression()\n",
    "model.fit(X_train, y_train)\n",
    "\n",
    "y_predict = model.predict(X_test) # not y_test"
   ]
  },
  {
   "cell_type": "code",
   "execution_count": 29,
   "metadata": {},
   "outputs": [
    {
     "data": {
      "image/png": "[encoded data removed]",
      "text/plain": [
       "<Figure size 432x288 with 1 Axes>"
      ]
     },
     "metadata": {
      "needs_background": "light"
     },
     "output_type": "display_data"
    }
   ],
   "source": [
    "plt.scatter(X_test, y_test, color='black')\n",
    "plt.plot(X_test, y_predict, color='green')\n",
    "plt.scatter(X_test, y_predict, color='blue')\n",
    "plt.show()"
   ]
  },
  {
   "cell_type": "markdown",
   "metadata": {},
   "source": [
    "sooo much better"
   ]
  },
  {
   "cell_type": "markdown",
   "metadata": {},
   "source": [
    "Just for fun let's see if it gets my waistline correct:"
   ]
  },
  {
   "cell_type": "code",
   "execution_count": 30,
   "metadata": {},
   "outputs": [
    {
     "data": {
      "text/plain": [
       "array([[38.09172552]])"
      ]
     },
     "execution_count": 30,
     "metadata": {},
     "output_type": "execute_result"
    }
   ],
   "source": [
    "model.predict([[0]])"
   ]
  },
  {
   "cell_type": "markdown",
   "metadata": {},
   "source": [
    "...no comment 😉"
   ]
  }
 ],
 "metadata": {
  "interpreter": {
   "hash": "c7d6cb708d9496164cad24676295f59deddd15f42781117113af2b6c8d53f583"
  },
  "kernelspec": {
   "display_name": "Python 3.9.7 64-bit (windows store)",
   "name": "python3"
  },
  "language_info": {
   "codemirror_mode": {
    "name": "ipython",
    "version": 3
   },
   "file_extension": ".py",
   "mimetype": "text/x-python",
   "name": "python",
   "nbconvert_exporter": "python",
   "pygments_lexer": "ipython3",
   "version": "3.9.7"
  },
  "orig_nbformat": 4
 },
 "nbformat": 4,
 "nbformat_minor": 2
}
